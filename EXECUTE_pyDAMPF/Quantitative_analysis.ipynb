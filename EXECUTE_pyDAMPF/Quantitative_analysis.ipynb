{
 "cells": [
  {
   "cell_type": "code",
   "execution_count": 2,
   "id": "0a3bb7c5",
   "metadata": {
    "scrolled": true
   },
   "outputs": [
    {
     "data": {
      "application/vnd.jupyter.widget-view+json": {
       "model_id": "73633b73a4034a15a6cfd65db8cb70c3",
       "version_major": 2,
       "version_minor": 0
      },
      "text/plain": [
       "HTML(value='With which library you want to view the data  :', layout=Layout(width='600px'), style=DescriptionS…"
      ]
     },
     "metadata": {},
     "output_type": "display_data"
    },
    {
     "data": {
      "application/vnd.jupyter.widget-view+json": {
       "model_id": "46d2865590ee45b3b5f1f905b35c38d1",
       "version_major": 2,
       "version_minor": 0
      },
      "text/plain": [
       "HBox(children=(Button(description='Display', layout=Layout(width='300px'), style=ButtonStyle()), Button(descri…"
      ]
     },
     "metadata": {},
     "output_type": "display_data"
    }
   ],
   "source": [
    "import pandas as pd\n",
    "import numpy as np\n",
    "import os\n",
    "from IPython.display import display\n",
    "import tabloo\n",
    "\n",
    "def findfile(name, path):\n",
    "    for dirpath, dirname, filename in os.walk(path):\n",
    "        if name in filename:\n",
    "            return os.path.join(dirpath, name)\n",
    "        \n",
    "tempall = np.genfromtxt(open('tempall.txt',\"r\"))\n",
    "model = pd.read_csv(\"cantileversdata_modelaux.csv\")\n",
    "casos = np.array(len(tempall[:,0]))\n",
    "escenario = 'p' #input ('Serial method (s) or Parallel method (p)  ')\n",
    "\n",
    "mascara=np.genfromtxt('mascara_aux.txt')\n",
    "mask=[]\n",
    "for i in mascara:\n",
    "    if i == 1 :\n",
    "        i = True\n",
    "    else:\n",
    "        i=False\n",
    "    mask.append(i)\n",
    "\n",
    "cantileversaux=[]\n",
    "for i in range(len(mascara)):\n",
    "    cantileversaux.append(i+1)\n",
    "\n",
    "cantileversaux1=np.array(cantileversaux)\n",
    "cantilevers=cantileversaux1[mask]\n",
    "model = model [mask]\n",
    "\n",
    "#dominio temporal\n",
    "esc = escenario \n",
    "direc = os.getcwd()\n",
    "if esc=='p' or esc == 'P'or esc == '-P' or esc == '-p' :\n",
    "    direc = direc+'/PARALLELBASIC_0/'\n",
    "elif esc == 's' or esc == 'S'or esc == '-s'or esc == '-S':\n",
    "    direc = direc+'/SERIALBASIC_0/'\n",
    "else:\n",
    "    print('Select parallel mode (-p) or serial mode (-s) in the first argument' )\n",
    "    sys.exit()\n",
    "forcet=[];maxforcet=[];vdwt=[];hertzt=[];viscot=[];capt=[];ljt=[];dlvot=[]\n",
    "     \n",
    "for i in range(casos):\n",
    "    filepatht = findfile(\"tdom\"+str(i+1)+\".dfo\", direc)\n",
    "    tdom = np.genfromtxt(open(str(filepatht),\"r\"))        \n",
    "    forcet.append(tdom[:,4])\n",
    "    maxforcet.append(tdom[:,5])\n",
    "    vdwt.append(tdom[:,6])\n",
    "    hertzt.append(tdom[:,7])\n",
    "    viscot.append(tdom[:,8])\n",
    "    capt.append(tdom [:,9]) \n",
    "    ljt.append(tdom[:,10])\n",
    "    dlvot.append(tdom [:,11])    \n",
    "    \n",
    "forcetM=[];vdwtM=[];hertztM=[];viscotM=[];captM=[];ljtM=[];dlvotM=[]\n",
    "for j in range(casos):\n",
    "    forcetM.append([max(forcet[j])]) \n",
    "    vdwtM.append([max(vdwt[j])]) \n",
    "    hertztM.append([max(hertzt[j])]) \n",
    "    viscotM.append([max(viscot[j])]) \n",
    "    captM.append([max(capt[j])]) \n",
    "    ljtM.append([max(ljt[j])]) \n",
    "    dlvotM.append([max(dlvot[j])]) \n",
    "\n",
    "df = model.assign(ID=cantilevers , LENGTH=tempall[:,1], WIDTH=tempall[:,2], THICKNESS=tempall[:,3] , F0=tempall[:,4] , R_tip=tempall[:,5] , Kc=tempall[:,6] , VOLUME=tempall[:,8] , A0=tempall[:,15] , RH=tempall[:,29] , Es=tempall[:,16], Q=tempall[:,17], F_Total=forcetM , F_Hertz=hertztM , F_vdw=vdwtM , F_vis=viscotM , F_cap=captM , F_LJ=ljtM , F_DLVO=dlvotM )\n",
    "\n",
    "def quit (x=False):\n",
    "    if x:\n",
    "        sys.exit()\n",
    "def displa (x=False):\n",
    "    if x:\n",
    "        display(df)\n",
    "def tabl2 (x=False):\n",
    "    if x:\n",
    "        print('Unfortunately tabloo has a bug, please interrupt the kernel if you select this option once you have finished.')\n",
    "        tabloo.show(df)\n",
    "\n",
    "import ipywidgets as widgets\n",
    "style = {'description_width': '300px'}\n",
    "layout = {'width': '600px'}\n",
    "\n",
    "question2 = widgets.HTML(value='If you finish to see press  :', style=style, layout=layout)\n",
    "yes2 = widgets.Button(value=False,description='Yes',disabled=False, layout={'width': '300px'})\n",
    "\n",
    "disp=widgets.Button(value=False,description='Display',disabled=False, layout={'width': '300px'})\n",
    "tabl=widgets.Button(value=False,description='Tabloo',disabled=False, layout={'width': '300px'})\n",
    "question3 = widgets.HTML(value='With which library you want to view the data  :', style=style, layout=layout)\n",
    "hor = widgets.HBox([disp, tabl])\n",
    "                    \n",
    "display(question3, hor)\n",
    "disp.on_click(displa)\n",
    "tabl.on_click(tabl2)\n",
    "   \n",
    "#display(question2,yes2)\n",
    "#yes2.on_click(quit)\n",
    "    "
   ]
  }
 ],
 "metadata": {
  "kernelspec": {
   "display_name": "Python 3 (ipykernel)",
   "language": "python",
   "name": "python3"
  },
  "language_info": {
   "codemirror_mode": {
    "name": "ipython",
    "version": 3
   },
   "file_extension": ".py",
   "mimetype": "text/x-python",
   "name": "python",
   "nbconvert_exporter": "python",
   "pygments_lexer": "ipython3",
   "version": "3.9.7"
  }
 },
 "nbformat": 4,
 "nbformat_minor": 5
}
