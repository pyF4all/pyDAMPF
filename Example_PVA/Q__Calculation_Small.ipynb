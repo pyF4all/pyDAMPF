{
 "cells": [
  {
   "cell_type": "markdown",
   "metadata": {
    "id": "vCESHk9Cjdz0"
   },
   "source": [
    "First approach to the quality factor"
   ]
  },
  {
   "cell_type": "markdown",
   "metadata": {
    "id": "8f-Q3usfiwXS"
   },
   "source": [
    "SADER'S PROPOSED EQUATION IS GIVEN AS FOLLOWS:\n",
    "\n",
    "$Qf= \\frac{\\frac{4μ}{πρb^2}+Γ_{r}^f(w)}{Γ_{i}^f(w)}$\n",
    "\n",
    "Where μ is the line density, ρ is the fluid density, b is the cantilever width, $Γ_{r}^f(w)$ and $Γ_{i}^f(w)$ are the hydrodynamic functions which has a real and an imaginary part."
   ]
  },
  {
   "cell_type": "markdown",
   "metadata": {
    "id": "pjZlb6OhmDgA"
   },
   "source": [
    "FOR THE HYDRODYNAMIC BENDING FUNCTIONS OF A RECTANGULAR CANTILEVER:\n",
    "$ Γ^f(w)=Γ_{r}^f(w)+iΓ_{i}^f(w)$, where:\n",
    "\n",
    "$Γ_{r}^f(w) = a_{0}τ^0+a_{1}τ^1+a_{2}τ^2+a_{3}τ^3+a_{4}τ^4+a_{5}τ^5+a_{6}τ^6+a_{7}τ^7+a_{8}τ^8+a_{9}τ^9+a_{10}τ^{10}+a_{11}τ^{11}+a_{12}τ^{12}+a_{13}τ^{13}+a_{14}τ^{14}+a_{15}τ^{15}+a_{16}τ^{16}+a_{17}τ^{17}+a_{18}τ^{18}+a_{19}τ^{19}+a_{20}τ^{20}$\n",
    "\n",
    "$Γ_{i}^f(w) = b_{0}τ^0+b_{1}τ^1+b_{2}τ^2+b_{3}τ^3+b_{4}τ^4+b_{5}τ^5+b_{6}τ^6+b_{7}τ^7+b_{8}τ^8+b_{9}τ^9+b_{10}τ^{10}+b_{11}τ^{11}+b_{12}τ^{12}+b_{13}τ^{13}+b_{14}τ^{14}+b_{15}τ^{15}+b_{16}τ^{16}+b_{17}τ^{17}+b_{18}τ^{18}+b_{19}τ^{19}+b_{20}τ^{20}$\n",
    "\n",
    "with $τ = log_{10}(Re)$ and $Re = \\frac{ρωb^{2}}{4η}$\n",
    "\n",
    "https://doi.org/10.1063/1.2136418"
   ]
  },
  {
   "cell_type": "code",
   "execution_count": 1,
   "metadata": {
    "id": "twco0z6KhyAe"
   },
   "outputs": [],
   "source": [
    "import numpy as np"
   ]
  },
  {
   "cell_type": "code",
   "execution_count": 2,
   "metadata": {
    "id": "g9QGehoc6t2S"
   },
   "outputs": [],
   "source": [
    "def Quality_factor (ρf ,ρc ,η ,W , X , Lp, ω_0):\n",
    "  H = Lp/W\n",
    "  μ= ρc*W*X\n",
    "  #μ= m2/L\n",
    "  A=(4*μ)/(np.pi*ρf*(W**2))\n",
    "  Re = (ρf*ω_0*(W**2))/(4*η)\n",
    "  τ = np.log10(Re)\n",
    "  if 0<H<=0.15:\n",
    "    coef_a=np.array([7.5527e-1,-2.6135e-1,2.1140e-2,16.035e-3,4.9104e-3,-3.6684e-3,-1.0236e-3,4.4735e-4,1.8547e-4,-0.46932e-4,-2.0912e-5,0.49126e-5,1.4143e-6,-0.46897e-6,-0.68028e-7,0.31330e-7,3.1539e-9,-1.1679e-9,-1.2147e-10,1.7914e-11,2.1546e-12])\n",
    "    coef_b=np.array([26.126e-1,-9.9609e-1,0.25151e-2,0.17624e-2,1.0613e-3,-0.64407e-3,-0.73114e-3,2.8566e-4,3.3144e-4,-0.42741e-4,-0.78124e-4,-0.107440e-5,1.0266e-5,1.1467e-6,-7.0985e-7,-1.3587e-7,2.1533e-8,6.5746e-9,-0.28485e-10,-1.1696e-10,-0.82157e-11])\n",
    "  elif 0.15<H<=0.25:\n",
    "    coef_a=np.array([6.0895e-1,-2.6693e-1,3.1762e-2,12.848e-3,4.5226e-3,-3.9971e-3,-1.6638e-3,7.2736e-4,5.8761e-4,-1.1135e-4,-13423e-5,1.1295e-5,18.73e-6,-0.61522e-6,-16.002e-7,0.11642e-7,81.887e-9,0.28843e-9,-23.084e-10,-1.138e-11,27.602e-12])\n",
    "    coef_b=np.array([18.379e-1,-9.8195e-1,1.2814e-2,0.0068333e-2,-2.8251e-3,4.8823e-3,3.9207e-3,-26.994e-4,-19.6e-4,8.1574e-4,5.5755e-4,-13.351e-5,-9.1348e-5,12.496e-6,88.408e-7,-6.7359e-7,-50.125e-8,19.518e-9,154.27e-10,-2.3605e-10,-19.935e-11])\n",
    "  elif 0.25<H<=0.35:\n",
    "    coef_a=np.array([5.5255e-1,-2.6899e-1,3.9445e-2,9.7839e-3,1.1833e-3,-2.8825e-3,0.40113e-3,3.7138e-4,-2.2353e-4,-0.67274e-4,4.4878e-5,1.3039e-5,-4.5050e-6,-1.5585e-6,2.1963e-7,1.0401e-7,-2.8498e-9,-3.6216e-9,-1.4891e-10,5.1513e-11,4.4301e-12])\n",
    "    coef_b=np.array([14.481e-1,-9.6357e-1,2.3402e-2,1.0713e-2,2.0584e-3,-2.6861e-3,-1.0023e-3,13.746e-4,7.2786e-4,-2.1997e-4,-1.8264e-4,0.5863e-5,2.187e-5,1.9639e-6,-13.405e-7,-2.3403e-7,3.6467e-8,10.491e-9,-0.45175e-10,-1.7327e-10,-1.1795e-11])\n",
    "  elif 0.45<H<=0.55:\n",
    "    coef_a=np.array([5.1365e-1,-2.7059e-1,4.6123e-2,7.1220e-3,1.1513e-3,-2.4522e-3,-0.93243e-3,-1.7136e-4,2.6990e-4,1.8082e-4,-2.9764e-5,-3.7621e-5,0.12916e-6,4.0217e-6,2.7441e-7,-2.4224e-7,-26.540e-9,7.8073e-9,10.634e-10,-10.491e-11,-16.211e-12])\n",
    "    coef_b=np.array([10.576e-1,-9.1672e-1,4.8949e-2,1.1656e-2,-3.653e-3,3.0136e-3,6.2433e-3,-2.9983e-4,-25.331e-4,-2.1997e-4,5.1886e-4,6.5850e-5,-6.3176e-5,-8.2988e-6,47.7e-7,5.5350e-7,-21.949e-8,-19.168e-9,56.447e-10,2.7181e-10,-6.2262e-11])\n",
    "  elif 0.9<H<=1:\n",
    "    coef_a=np.array([5.1711e-1,-2.7351e-1,4.9510e-2,-3.6636e-3,-7.6334e-3,-0.47742e-3,3.8343e-3,5.9373e-4,-9.0752e-4,-2.0595e-4,12.36e-5,3.6076e-5,-9.7998e-6,-3.6271e-6,4.0092e-7,2.1263e-7,-3.5162e-9,-6.7705e-9,-2.9943e-10,9.0577e-11,7.8032e-12])\n",
    "    coef_b=np.array([7.3610e-1,-8.2193e-1,8.9232e-2,2.9049e-2,2.5960e-3,-8.1131e-3,-4.5414e-3,12.639e-4,13.671e-4,-0.44895e-4,-2.1757e-4,-1.7194e-5,1.9995e-5,3.0821e-6,-10.225e-7,-2.3243e-7,2.3257e-8,8.5909e-9,0.69316e-10,-1.2711e-10,-0.88792e-11])\n",
    "  else:\n",
    "    print('we have not calculated the coefficients a and b for this value of H')\n",
    "    return()\n",
    "  tauarray=np.array([τ**0,τ**1,τ**2,τ**3,τ**4,τ**5,τ**6,τ**7,τ**8,τ**9,τ**10,τ**11,τ**12,τ**13,τ**14,τ**15,τ**16,τ**17,τ**18,τ**19,τ**20])\n",
    "  Γr=(sum(coef_a*tauarray))\n",
    "  Γi=(sum(coef_b*tauarray))\n",
    "  Q=(((4*μ)/(np.pi*(W**2)*ρf))+Γr)/(Γi)\n",
    "\n",
    "  return(Q)"
   ]
  },
  {
   "cell_type": "code",
   "execution_count": 3,
   "metadata": {
    "id": "34IukDyMQCu1"
   },
   "outputs": [],
   "source": [
    "# DATA CANTILEVER\n",
    "L = 150*1e-6\n",
    "W = 27*1e-6\n",
    "X = 2.8*1e-6\n",
    "ω_0 = 160*1e3\n",
    "Lp = 9*1e-6\n",
    "ρc = 2330\n",
    "v = L*W*X\n",
    "m = v*ρc"
   ]
  },
  {
   "cell_type": "markdown",
   "metadata": {
    "id": "PpYQvDazYvoz"
   },
   "source": [
    "Data estimate for density and viscosity\n",
    "https://doi.org/10.1016/j.enconman.2007.09.015"
   ]
  },
  {
   "cell_type": "code",
   "execution_count": 4,
   "metadata": {
    "colab": {
     "base_uri": "https://localhost:8080/"
    },
    "id": "_TdvnsvAZbJF",
    "outputId": "59173a26-2dfa-48d7-b19c-2524d8e19c9e"
   },
   "outputs": [
    {
     "name": "stdout",
     "output_type": "stream",
     "text": [
      "Quality Factor (Q) for RH1 =  227.31731979786946\n",
      "Quality Factor (Q) for RH2 =  227.5396610203751\n",
      "Quality Factor (Q) for RH3 =  228.08868952877322\n"
     ]
    }
   ],
   "source": [
    "# FOR RH1\n",
    "ρf = 1.2030\n",
    "η = 1.617e-5\n",
    "print('Quality Factor (Q) for RH1 = ',Quality_factor(ρf ,ρc ,η ,W , X , Lp, ω_0))\n",
    "\n",
    "# FOR RH2\n",
    "ρf = 1.2020\n",
    "η = 1.615e-5\n",
    "print('Quality Factor (Q) for RH2 = ',Quality_factor(ρf ,ρc ,η ,W , X , Lp, ω_0))\n",
    "\n",
    "# FOR RH3\n",
    "ρf = 1.2000\n",
    "η = 1.609e-5\n",
    "print('Quality Factor (Q) for RH3 = ',Quality_factor(ρf ,ρc ,η ,W , X , Lp, ω_0))"
   ]
  },
  {
   "cell_type": "code",
   "execution_count": 5,
   "metadata": {
    "colab": {
     "base_uri": "https://localhost:8080/"
    },
    "id": "yDLoFj_riV_1",
    "outputId": "77f9d727-c77f-4475-c6ad-f671789db247"
   },
   "outputs": [
    {
     "name": "stdout",
     "output_type": "stream",
     "text": [
      "DO YOU WANT TO CALCULATE THE QUALITY FACTOR FOR OTHER PURPOSES?  (yes=1 / no=2)\n",
      "2\n",
      "THANK YOU\n"
     ]
    }
   ],
   "source": [
    "# FOR FURTHER CALCULATIONS\n",
    "print('DO YOU WANT TO CALCULATE THE QUALITY FACTOR FOR OTHER PURPOSES?  (yes=1 / no=2)')\n",
    "qs = float(input())\n",
    "if qs==1 :\n",
    "  L = float(input('Cantilever length [μm]'))*1e-6\n",
    "  W = float(input('Cantilever width [μm]'))*1e-6\n",
    "  X = float(input('Cantilever thickness [μm]'))*1e-6\n",
    "  ω_0 = float(input('Frequency [kHz]'))*1e3\n",
    "  Lp = float(input('Distance to sample [μm]'))*1e-6\n",
    "  ρc = float(input('Cantilever density [Kg/m^3]'))\n",
    "  ρf = float(input('Fluid density [Kg/m^3]'))\n",
    "  η = float(input('Fluid viscosity [Pa s]'))\n",
    "  v = L*W*X\n",
    "  m = v*ρc\n",
    "  print('Quality Factor (Q) = ',Quality_factor(ρf ,ρc ,η ,W , X , Lp, ω_0))\n",
    "if qs==2 :\n",
    "  print('THANK YOU')"
   ]
  }
 ],
 "metadata": {
  "colab": {
   "provenance": []
  },
  "kernelspec": {
   "display_name": "Python 3 (ipykernel)",
   "language": "python",
   "name": "python3"
  },
  "language_info": {
   "codemirror_mode": {
    "name": "ipython",
    "version": 3
   },
   "file_extension": ".py",
   "mimetype": "text/x-python",
   "name": "python",
   "nbconvert_exporter": "python",
   "pygments_lexer": "ipython3",
   "version": "3.9.7"
  }
 },
 "nbformat": 4,
 "nbformat_minor": 1
}
